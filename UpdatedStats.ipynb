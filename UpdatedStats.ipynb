{
 "cells": [
  {
   "cell_type": "code",
   "execution_count": 79,
   "id": "19716a62",
   "metadata": {},
   "outputs": [],
   "source": [
    "import requests\n",
    "from bs4 import BeautifulSoup, NavigableString\n",
    "import pandas as pd\n",
    "from collections import defaultdict\n",
    "\n",
    "import re\n",
    "import os"
   ]
  },
  {
   "cell_type": "code",
   "execution_count": 80,
   "id": "738e905c",
   "metadata": {},
   "outputs": [],
   "source": [
    "# taken directly from Dr. Crane's 'TreebankCount.ipynb'\n",
    "tenses = {'p':'present','f':'future', 'i':'imperfect','a':'aorist','r':'perfect','l':'pluperfect','t':'future perfect'}\n",
    "voices = {'a':'active','m':'middle','p':'passive', 'i':'imperfect','e':'middle-passive'}\n",
    "moods = {'i':'indicative','s':'subjunctive', 'o':'optative','m':'imperative','p':'participle','n':'infinitive'}\n",
    "\n",
    "authinfo = {}\n",
    "authinfo['tlg0011'] = 'Sophocles,-497,-406,poetry,drama'\n",
    "authinfo['tlg1220'] = 'Batrachomyomachia,-100,-1,poetry,hexameter'\n",
    "authinfo['tlg0013'] = 'Homeric Hymns,-650,-450,poetry,hexameter'\n",
    "authinfo['tlg0020'] = 'Hesiod,-750,-650,poetry,hexameter'\n",
    "authinfo['tlg0026'] = 'Aeschines,-389,-314,prose,orator'\n",
    "authinfo['tlg0058'] = 'Aeneas Tacticus,301,400,prose,misc'\n",
    "authinfo['tlg0096'] = 'Aesop,-620,-564,prose'\n",
    "authinfo['tlg0085'] = 'Aeschylus,-525c,-455c,poetry,drama'\n",
    "authinfo['tlg0028'] = 'Antiphon,-490,-411,prose,orator'\n",
    "authinfo['tlg0551'] = 'Appian,-490,-411,prose,history'\n",
    "authinfo['tlg0086'] = 'Aristotle,-384,-322,prose,philosophy'\n",
    "authinfo['tlg0019'] = 'Aristophanes,-446,-386,poetry,drama'\n",
    "authinfo['tlg0008'] = 'Athenaeus,170,223,prose,misc'\n",
    "authinfo['tlg0554'] = 'Chariton,101,200,prose,misc'\n",
    "authinfo['tlg0041'] = 'Chionis Epistulae,1,200,prose,misc'\n",
    "authinfo['tlg0627'] = 'Corpus Hippocraticum,-450,-350,prose,misc'\n",
    "authinfo['tlg0014'] = 'Demosthenes,-384,-322,prose,orator'\n",
    "authinfo['tlg0060'] = 'Diodorus Siculus,-90c,-30c,prose,history'\n",
    "authinfo['tlg0081'] = 'Dionysius of Halicarnassus,-60c,-7c,prose,history'\n",
    "authinfo['tlg0557'] = 'Epictetus,50,135,prose,philosopy'\n",
    "authinfo['tlg0537'] = 'Epicurus,-341,-270,prose,philosophy'\n",
    "authinfo['tlg0343'] = 'Ezechiel the Tragic Poet,-200,-101,poetry'\n",
    "authinfo['tlg0006'] = 'Euripides,-480c,-406c,poetry,drama'\n",
    "authinfo['tlg0016'] = 'Herodotus,-484c,-425c,prose,history'\n",
    "authinfo['tlg0559'] = 'Heron of Alexandria,10,70,prose,misc'\n",
    "authinfo['tlg0010'] = 'Isocrates,-436,-338,prose,orator'\n",
    "authinfo['tlg0526'] = 'Josephus,37,100c,prose,history'\n",
    "authinfo['tlg2003'] = 'Julian the Apostate,331,363,prose,misc'\n",
    "authinfo['tlg0561'] = 'Longus,101,200,prose,misc'\n",
    "authinfo['tlg0061'] = 'Pseudo-Lucian,201,400,prose,misc'\n",
    "authinfo['tlg0062'] = 'Lucian,125,180,prose,misc'\n",
    "authinfo['tlg0540'] = 'Lysias,-445c,-380c,prose,orator'\n",
    "authinfo['tlg0541'] = 'Menander,-342,-291,poetry,drama'\n",
    "authinfo['tlg0255'] = 'Mimnermus,-650,-600,poetry,lyreleg'\n",
    "authinfo['tlgX208'] = 'Paeanius,301,400,prose,misc'\n",
    "authinfo['tlg0585'] = 'Phlegon,151,200,prose,misc'\n",
    "authinfo['tlg0059'] = 'Plato,-428c,-347c,prose,philosophy'\n",
    "authinfo['tlg0007'] = 'Plutarch,46,119,prose,history'\n",
    "authinfo['tlg0543'] = 'Polybius,-200,-118,prose,history'\n",
    "authinfo['tlg4029'] = 'Procopius,500,565,prose,history'\n",
    "authinfo['tlg0009'] = 'Sappho,-630,-570,poetry,lyreleg'\n",
    "authinfo['tlg0260'] = 'Semonides,-700,-601,poetry,lyreleg'\n",
    "authinfo['tlg0527'] = 'Septuagint,-250,-100,prose,bible'\n",
    "authinfo['tlg0544'] = 'Sextus Empiricus,150,250,prose,philosophy'\n",
    "authinfo['tlg0032'] = 'Xenophon,-430c,-354,prose,history'\n",
    "authinfo['tlg0005'] = 'Theocritus,-300,-255,poetry,hexameter'\n",
    "authinfo['tlg0003'] = 'Thucydides,-460c,-400c,prose,history'\n",
    "authinfo['tlg0093'] = 'Theophrastus,-371,-287,prose,philosophy'\n",
    "authinfo['tlg0012'] = 'Homer,-775c,-700c,poetry,hexameter'"
   ]
  },
  {
   "cell_type": "code",
   "execution_count": 81,
   "id": "5cc2b577",
   "metadata": {
    "scrolled": true
   },
   "outputs": [],
   "source": [
    "# change ROOT to local root\n",
    "ROOT = \"c:\\\\Users\\\\bella\\\\OneDrive\\\\Documents\"\n",
    "\n",
    "LOCALPATH = os.path.join(ROOT, 'GitHub')\n",
    "GORPATH = os.path.join(LOCALPATH, 'gorman-trees', 'public', 'xml')\n",
    "PEDPATH = os.path.join(LOCALPATH, 'pedalion-trees', 'public', 'xml')\n",
    "MAMPATH = os.path.join(LOCALPATH, 'gAGDT', 'data', 'xml')"
   ]
  },
  {
   "cell_type": "code",
   "execution_count": 90,
   "id": "d51bdc26",
   "metadata": {},
   "outputs": [
    {
     "ename": "IndexError",
     "evalue": "list index out of range",
     "output_type": "error",
     "traceback": [
      "\u001b[1;31m---------------------------------------------------------------------------\u001b[0m",
      "\u001b[1;31mIndexError\u001b[0m                                Traceback (most recent call last)",
      "\u001b[1;32m<ipython-input-90-9b0f0b78b1f6>\u001b[0m in \u001b[0;36m<module>\u001b[1;34m\u001b[0m\n\u001b[0;32m     42\u001b[0m                         \u001b[0mverbForms\u001b[0m\u001b[1;33m[\u001b[0m\u001b[0mcategory\u001b[0m\u001b[1;33m]\u001b[0m \u001b[1;33m+=\u001b[0m \u001b[1;36m1\u001b[0m\u001b[1;33m\u001b[0m\u001b[1;33m\u001b[0m\u001b[0m\n\u001b[0;32m     43\u001b[0m         \u001b[0mprint\u001b[0m\u001b[1;33m(\u001b[0m\u001b[0mverbForms\u001b[0m\u001b[1;33m)\u001b[0m\u001b[1;33m\u001b[0m\u001b[1;33m\u001b[0m\u001b[0m\n\u001b[1;32m---> 44\u001b[1;33m \u001b[0mVerbTenses\u001b[0m\u001b[1;33m(\u001b[0m\u001b[0mFILENAME\u001b[0m\u001b[1;33m)\u001b[0m\u001b[1;33m\u001b[0m\u001b[1;33m\u001b[0m\u001b[0m\n\u001b[0m",
      "\u001b[1;32m<ipython-input-90-9b0f0b78b1f6>\u001b[0m in \u001b[0;36mVerbTenses\u001b[1;34m(FILENAME)\u001b[0m\n\u001b[0;32m     11\u001b[0m             \u001b[0mTLG\u001b[0m \u001b[1;33m=\u001b[0m \u001b[0mdocID\u001b[0m\u001b[1;33m.\u001b[0m\u001b[0msplit\u001b[0m\u001b[1;33m(\u001b[0m\u001b[1;34m':'\u001b[0m\u001b[1;33m)\u001b[0m\u001b[1;33m[\u001b[0m\u001b[1;33m-\u001b[0m\u001b[1;36m1\u001b[0m\u001b[1;33m]\u001b[0m\u001b[1;33m\u001b[0m\u001b[1;33m\u001b[0m\u001b[0m\n\u001b[0;32m     12\u001b[0m             \u001b[0mauthor\u001b[0m \u001b[1;33m=\u001b[0m \u001b[0mTLG\u001b[0m\u001b[1;33m.\u001b[0m\u001b[0msplit\u001b[0m\u001b[1;33m(\u001b[0m\u001b[1;34m'.'\u001b[0m\u001b[1;33m)\u001b[0m\u001b[1;33m[\u001b[0m\u001b[1;36m0\u001b[0m\u001b[1;33m]\u001b[0m\u001b[1;33m\u001b[0m\u001b[1;33m\u001b[0m\u001b[0m\n\u001b[1;32m---> 13\u001b[1;33m             \u001b[0mwork\u001b[0m \u001b[1;33m=\u001b[0m \u001b[0mTLG\u001b[0m\u001b[1;33m.\u001b[0m\u001b[0msplit\u001b[0m\u001b[1;33m(\u001b[0m\u001b[1;34m'.'\u001b[0m\u001b[1;33m)\u001b[0m\u001b[1;33m[\u001b[0m\u001b[1;36m1\u001b[0m\u001b[1;33m]\u001b[0m\u001b[1;33m\u001b[0m\u001b[1;33m\u001b[0m\u001b[0m\n\u001b[0m\u001b[0;32m     14\u001b[0m             \u001b[0mprint\u001b[0m\u001b[1;33m(\u001b[0m\u001b[0mTLG\u001b[0m\u001b[1;33m)\u001b[0m\u001b[1;33m\u001b[0m\u001b[1;33m\u001b[0m\u001b[0m\n\u001b[0;32m     15\u001b[0m         '''\n",
      "\u001b[1;31mIndexError\u001b[0m: list index out of range"
     ]
    }
   ],
   "source": [
    "FILENAME = os.path.join(PEDPATH, 'chion.xml')\n",
    "\n",
    "def VerbTenses(FILENAME):\n",
    "    verbForms = defaultdict(int)\n",
    "    \n",
    "    with open(FILENAME, 'r', encoding=\"utf-8\") as f:\n",
    "        soup = BeautifulSoup(f, \"xml\")\n",
    "        if soup.treebank.sentence['document_id']:\n",
    "            docID = soup.treebank.sentence['document_id']\n",
    "\n",
    "            TLG = docID.split(':')[-1]\n",
    "            author = TLG.split('.')[0]\n",
    "            work = TLG.split('.')[1]\n",
    "            print(TLG)\n",
    "        '''\n",
    "        elif soup.treebank.sentence.has_attr('Author'):\n",
    "            Author = soup.treebank.sentence['Author']\n",
    "            print(Author)\n",
    "        '''\n",
    "        for sentence in soup('sentence'):\n",
    "            for word in sentence('word'):\n",
    "                if word.has_attr('postag'):\n",
    "                    postag = word['postag']\n",
    "                    #print(postag)\n",
    "                    pos    = postag[0]\n",
    "                    person = postag[1]\n",
    "                    number = postag[2]\n",
    "                    tense  = postag[3]\n",
    "                    mood   = postag[4]\n",
    "                    voice  = postag[5]\n",
    "                    gender = postag[6]\n",
    "                    case   = postag[7]\n",
    "                    '''\n",
    "                    lemma = word['lemma']\n",
    "                    strLemma = re.sub(r'\\d+', '', lemma)\n",
    "                    if (strLemma.endswith('ω')):\n",
    "                        verbEnd = 'o'\n",
    "                    elif (strLemma.endswith(''))\n",
    "                    '''\n",
    "                    if (pos == 'v'):\n",
    "                        category = tense + mood + voice\n",
    "                        verbForms[category] += 1\n",
    "        print(verbForms)\n",
    "        \n",
    "#VerbTenses(FILENAME)"
   ]
  },
  {
   "cell_type": "code",
   "execution_count": 15,
   "id": "7adfc6eb",
   "metadata": {},
   "outputs": [],
   "source": [
    "def addfiles(dirname,flist):\n",
    "    for foo in sorted(os.listdir(dirname)):\n",
    "        if(not re.search('\\.xml$',foo)):\n",
    "            continue\n",
    "        flist.append(dirname+foo)\n",
    "    return(flist)"
   ]
  },
  {
   "cell_type": "code",
   "execution_count": 22,
   "id": "9961a39f",
   "metadata": {},
   "outputs": [
    {
     "name": "stdout",
     "output_type": "stream",
     "text": [
      "None\n"
     ]
    }
   ],
   "source": []
  },
  {
   "cell_type": "code",
   "execution_count": null,
   "id": "c56a535d",
   "metadata": {},
   "outputs": [],
   "source": []
  }
 ],
 "metadata": {
  "kernelspec": {
   "display_name": "Python 3",
   "language": "python",
   "name": "python3"
  },
  "language_info": {
   "codemirror_mode": {
    "name": "ipython",
    "version": 3
   },
   "file_extension": ".py",
   "mimetype": "text/x-python",
   "name": "python",
   "nbconvert_exporter": "python",
   "pygments_lexer": "ipython3",
   "version": "3.8.10"
  }
 },
 "nbformat": 4,
 "nbformat_minor": 5
}
